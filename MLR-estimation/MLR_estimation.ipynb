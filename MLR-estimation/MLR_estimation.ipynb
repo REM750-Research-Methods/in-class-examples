{
 "cells": [
  {
   "cell_type": "markdown",
   "metadata": {},
   "source": [
    "## Introduction\n",
    "\n",
    "This in-class example demonstrates how you approach a new data set and conduct simple data analysis.\n",
    "\n",
    "What you need to know:  \n",
    "- Statsmodels and pandas modules in python\n",
    "- Theoretical concepts on statistical moments\n",
    "- Theoretical concepts on simple linear regression model\n",
    "\n",
    "The list of [references](#References) for detailed concepts and techniques used in this exerise.\n",
    "***\n",
    "\n",
    "## Content\n",
    "- [Load the required modules](#Load-the-required-modules)\n",
    "- [Data check and summary statistics](#Data-check-and-summary-statistics)\n",
    "- [Simple Linear Regression Model](#Simple-Linear-Regression-Model) \n",
    "- [References](#References)"
   ]
  },
  {
   "cell_type": "markdown",
   "metadata": {},
   "source": [
    "***\n",
    "## Data Description\n",
    "\n",
    "The data set is contained in a comma-separated value (csv) file named ```hprice1.csv``` with column headers. \n",
    "\n",
    "Description of the data is as follow:\n",
    "\n",
    "| Name | Description |\n",
    "| :--- | :--- |\n",
    "| price    | house price, \\$1000s |\n",
    "| assess   | assessed value, \\$1000s |\n",
    "| bdrms    | number of bdrms |\n",
    "| lotsize  | size of lot in square feet |\n",
    "| sqrft    | size of house in square feet |\n",
    "| colonial | =1 if home is colonial style |\n",
    "| lprice   | log(price) |\n",
    "| lassess  | log(assess) |\n",
    "| llotsize | log(lotsize) |\n",
    "| lsqrft   | log(sqrft) |"
   ]
  },
  {
   "cell_type": "markdown",
   "metadata": {},
   "source": [
    "***\n",
    "## Load the required modules"
   ]
  },
  {
   "cell_type": "code",
   "execution_count": null,
   "metadata": {},
   "outputs": [],
   "source": [
    "import math\n",
    "import numpy as np\n",
    "import pandas as pd\n",
    "import statsmodels\n",
    "import statsmodels.api as sm\n",
    "import statsmodels.formula.api as smf"
   ]
  },
  {
   "cell_type": "markdown",
   "metadata": {},
   "source": [
    "***\n",
    "## Data check and summary statistics"
   ]
  },
  {
   "cell_type": "markdown",
   "metadata": {},
   "source": [
    "#### Load the data set"
   ]
  },
  {
   "cell_type": "code",
   "execution_count": null,
   "metadata": {},
   "outputs": [],
   "source": [hp_data = pd.read_csv("hprice1.csv")]
  },
  {
   "cell_type": "markdown",
   "metadata": {},
   "source": [
    "#### Check if the data is properly imported"
   ]
  },
  {
   "cell_type": "code",
   "execution_count": null,
   "metadata": {},
   "outputs": [],
   "source": []
  },
  {
   "cell_type": "markdown",
   "metadata": {},
   "source": [
    "#### Get statistical moments"
   ]
  },
  {
   "cell_type": "code",
   "execution_count": null,
   "metadata": {},
   "outputs": [],
   "source": []
  },
  {
   "cell_type": "markdown",
   "metadata": {},
   "source": [
    "#### Create a scatter plot to visualize the data"
   ]
  },
  {
   "cell_type": "code",
   "execution_count": null,
   "metadata": {},
   "outputs": [],
   "source": []
  },
  {
   "cell_type": "markdown",
   "metadata": {},
   "source": [
    "***\n",
    "## Simple Linear Regression Model"
   ]
  },
  {
   "cell_type": "markdown",
   "metadata": {},
   "source": [
    "#### Model Estimation by the Ordinary Least Square (OLS) method\n",
    "\n",
    "Estimate the model $$price = \\beta_0 + \\beta_1 sqrft + \\beta_2 bdrms + u,$$\n",
    "where price is the house price measured in thousands of dollars."
   ]
  },
  {
   "cell_type": "code",
   "execution_count": null,
   "metadata": {},
   "outputs": [],
   "source": []
  },
  {
   "cell_type": "markdown",
   "metadata": {},
   "source": [
    "#### Get the estimation results"
   ]
  },
  {
   "cell_type": "code",
   "execution_count": null,
   "metadata": {},
   "outputs": [],
   "source": []
  },
  {
   "cell_type": "markdown",
   "metadata": {},
   "source": [
    "#### How would you interpret the results?"
   ]
  },
  {
   "cell_type": "markdown",
   "metadata": {},
   "source": [
    "1. Write out the results in equation form."
   ]
  },
  {
   "cell_type": "markdown",
   "metadata": {},
   "source": []
  },
  {
   "cell_type": "markdown",
   "metadata": {},
   "source": [
    "2. What is the estimated increase in price for a house with one more bedroom, holding square footage constant?"
   ]
  },
  {
   "cell_type": "code",
   "execution_count": null,
   "metadata": {},
   "outputs": [],
   "source": []
  },
  {
   "cell_type": "markdown",
   "metadata": {},
   "source": [
    "3. What is the estimated increase in price for a house with an additional bedroom that is 140 square feet in size? Compare this to your answer above. "
   ]
  },
  {
   "cell_type": "code",
   "execution_count": null,
   "metadata": {},
   "outputs": [],
   "source": []
  },
  {
   "cell_type": "markdown",
   "metadata": {},
   "source": [
    "4. What percentage of the variation in price is explained by square footage and number of bedrooms?"
   ]
  },
  {
   "cell_type": "code",
   "execution_count": null,
   "metadata": {},
   "outputs": [],
   "source": []
  },
  {
   "cell_type": "markdown",
   "metadata": {},
   "source": []
  },
  {
   "cell_type": "markdown",
   "metadata": {},
   "source": [
    "5. The first house in the sample has $sqrft = 2,438$ and $bdrms = 4$. Find the predicted selling price for this house from the OLS regression line."
   ]
  },
  {
   "cell_type": "code",
   "execution_count": null,
   "metadata": {},
   "outputs": [],
   "source": []
  },
  {
   "cell_type": "markdown",
   "metadata": {},
   "source": [
    "6. The actual selling price of the first house in the sample was \\$300,000 (price = 300). Find the residual for this house. Does it suggest that the buyer underpaid or overpaid for the house?"
   ]
  },
  {
   "cell_type": "code",
   "execution_count": null,
   "metadata": {},
   "outputs": [],
   "source": []
  },
  {
   "cell_type": "markdown",
   "metadata": {},
   "source": []
  },
  {
   "cell_type": "markdown",
   "metadata": {},
   "source": [
    "***\n",
    "## References\n",
    "\n",
    "- Jeffrey M. Wooldridge (2019) \"Introductory Econometrics: A Modern Approach, 7e\" Chapter 3.\n",
    "\n",
    "- The pandas development team (2020). \"[pandas-dev/pandas: Pandas](https://pandas.pydata.org/).\" Zenodo.\n",
    "    \n",
    "- Seabold, Skipper, and Josef Perktold (2010). \"[statsmodels: Econometric and statistical modeling with python](https://www.statsmodels.org/stable/examples/notebooks/generated/ols.html).\" Proceedings of the 9th Python in Science Conference."
   ]
  }
 ],
 "metadata": {
  "kernelspec": {
   "display_name": "Python 3",
   "language": "python",
   "name": "python3"
  },
  "language_info": {
   "codemirror_mode": {
    "name": "ipython",
    "version": 3
   },
   "file_extension": ".py",
   "mimetype": "text/x-python",
   "name": "python",
   "nbconvert_exporter": "python",
   "pygments_lexer": "ipython3",
   "version": "3.8.8"
  }
 },
 "nbformat": 4,
 "nbformat_minor": 4
}
